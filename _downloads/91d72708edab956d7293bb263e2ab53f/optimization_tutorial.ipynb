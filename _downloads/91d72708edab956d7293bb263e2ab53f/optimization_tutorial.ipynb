{
  "cells": [
    {
      "cell_type": "code",
      "execution_count": 2,
      "metadata": {
        "id": "Xiz_z99_G0sS"
      },
      "outputs": [],
      "source": [
        "# For tips on running notebooks in Google Colab, see\n",
        "# https://pytorch.org/tutorials/beginner/colab\n",
        "%matplotlib inline"
      ]
    },
    {
      "cell_type": "markdown",
      "metadata": {
        "id": "BXd_qGRdG0sf"
      },
      "source": [
        "[Learn the Basics](intro.html) \\|\\|\n",
        "[Quickstart](quickstart_tutorial.html) \\|\\|\n",
        "[Tensors](tensorqs_tutorial.html) \\|\\| [Datasets &\n",
        "DataLoaders](data_tutorial.html) \\|\\|\n",
        "[Transforms](transforms_tutorial.html) \\|\\| [Build\n",
        "Model](buildmodel_tutorial.html) \\|\\|\n",
        "[Autograd](autogradqs_tutorial.html) \\|\\| **Optimization** \\|\\| [Save &\n",
        "Load Model](saveloadrun_tutorial.html)\n",
        "\n",
        "Optimizing Model Parameters\n",
        "===========================\n",
        "\n",
        "Now that we have a model and data it\\'s time to train, validate and test\n",
        "our model by optimizing its parameters on our data. Training a model is\n",
        "an iterative process; in each iteration the model makes a guess about\n",
        "the output, calculates the error in its guess (*loss*), collects the\n",
        "derivatives of the error with respect to its parameters (as we saw in\n",
        "the [previous section](autograd_tutorial.html)), and **optimizes** these\n",
        "parameters using gradient descent. For a more detailed walkthrough of\n",
        "this process, check out this video on [backpropagation from\n",
        "3Blue1Brown](https://www.youtube.com/watch?v=tIeHLnjs5U8).\n",
        "\n",
        "Prerequisite Code\n",
        "-----------------\n",
        "\n",
        "We load the code from the previous sections on [Datasets &\n",
        "DataLoaders](data_tutorial.html) and [Build\n",
        "Model](buildmodel_tutorial.html).\n"
      ]
    },
    {
      "cell_type": "code",
      "execution_count": 3,
      "metadata": {
        "id": "rEsUS39cG0sm"
      },
      "outputs": [],
      "source": [
        "import torch\n",
        "from torch import nn\n",
        "from torch.utils.data import DataLoader\n",
        "from torchvision import datasets\n",
        "from torchvision.transforms import ToTensor\n",
        "\n",
        "training_data = datasets.FashionMNIST(\n",
        "    root=\"data\",\n",
        "    train=True,\n",
        "    download=True,\n",
        "    transform=ToTensor()\n",
        ")\n",
        "\n",
        "test_data = datasets.FashionMNIST(\n",
        "    root=\"data\",\n",
        "    train=False,\n",
        "    download=True,\n",
        "    transform=ToTensor()\n",
        ")\n",
        "\n",
        "train_dataloader = DataLoader(training_data, batch_size=64)\n",
        "test_dataloader = DataLoader(test_data, batch_size=64)\n",
        "\n",
        "class NeuralNetwork(nn.Module):\n",
        "    def __init__(self):\n",
        "        super().__init__()\n",
        "        self.flatten = nn.Flatten()\n",
        "        self.linear_relu_stack = nn.Sequential(\n",
        "            nn.Linear(28*28, 512),\n",
        "            nn.ReLU(),\n",
        "            nn.Linear(512, 512),\n",
        "            nn.ReLU(),\n",
        "            nn.Linear(512, 10),\n",
        "        )\n",
        "\n",
        "    def forward(self, x):\n",
        "        x = self.flatten(x)\n",
        "        logits = self.linear_relu_stack(x)\n",
        "        return logits\n",
        "\n",
        "model = NeuralNetwork()"
      ]
    },
    {
      "cell_type": "markdown",
      "metadata": {
        "id": "lRDMo8FbG0sp"
      },
      "source": [
        "Hyperparameters\n",
        "===============\n",
        "\n",
        "Hyperparameters are adjustable parameters that let you control the model\n",
        "optimization process. Different hyperparameter values can impact model\n",
        "training and convergence rates ([read\n",
        "more](https://pytorch.org/tutorials/beginner/hyperparameter_tuning_tutorial.html)\n",
        "about hyperparameter tuning)\n",
        "\n",
        "We define the following hyperparameters for training:\n",
        "\n",
        ":   -   **Number of Epochs** - the number times to iterate over the\n",
        "        dataset\n",
        "    -   **Batch Size** - the number of data samples propagated through\n",
        "        the network before the parameters are updated\n",
        "    -   **Learning Rate** - how much to update models parameters at each\n",
        "        batch/epoch. Smaller values yield slow learning speed, while\n",
        "        large values may result in unpredictable behavior during\n",
        "        training.\n"
      ]
    },
    {
      "cell_type": "code",
      "execution_count": 4,
      "metadata": {
        "id": "_B4h7RT0G0sr"
      },
      "outputs": [],
      "source": [
        "learning_rate = 1e-3\n",
        "batch_size = 64\n",
        "epochs = 5"
      ]
    },
    {
      "cell_type": "markdown",
      "metadata": {
        "id": "jnCTMkzaG0st"
      },
      "source": [
        "Optimization Loop\n",
        "=================\n",
        "\n",
        "Once we set our hyperparameters, we can then train and optimize our\n",
        "model with an optimization loop. Each iteration of the optimization loop\n",
        "is called an **epoch**.\n",
        "\n",
        "Each epoch consists of two main parts:\n",
        "\n",
        ":   -   **The Train Loop** - iterate over the training dataset and try\n",
        "        to converge to optimal parameters.\n",
        "    -   **The Validation/Test Loop** - iterate over the test dataset to\n",
        "        check if model performance is improving.\n",
        "\n",
        "Let\\'s briefly familiarize ourselves with some of the concepts used in\n",
        "the training loop. Jump ahead to see the\n",
        "`full-impl-label`{.interpreted-text role=\"ref\"} of the optimization\n",
        "loop.\n",
        "\n",
        "Loss Function\n",
        "-------------\n",
        "\n",
        "When presented with some training data, our untrained network is likely\n",
        "not to give the correct answer. **Loss function** measures the degree of\n",
        "dissimilarity of obtained result to the target value, and it is the loss\n",
        "function that we want to minimize during training. To calculate the loss\n",
        "we make a prediction using the inputs of our given data sample and\n",
        "compare it against the true data label value.\n",
        "\n",
        "Common loss functions include\n",
        "[nn.MSELoss](https://pytorch.org/docs/stable/generated/torch.nn.MSELoss.html#torch.nn.MSELoss)\n",
        "(Mean Square Error) for regression tasks, and\n",
        "[nn.NLLLoss](https://pytorch.org/docs/stable/generated/torch.nn.NLLLoss.html#torch.nn.NLLLoss)\n",
        "(Negative Log Likelihood) for classification.\n",
        "[nn.CrossEntropyLoss](https://pytorch.org/docs/stable/generated/torch.nn.CrossEntropyLoss.html#torch.nn.CrossEntropyLoss)\n",
        "combines `nn.LogSoftmax` and `nn.NLLLoss`.\n",
        "\n",
        "We pass our model\\'s output logits to `nn.CrossEntropyLoss`, which will\n",
        "normalize the logits and compute the prediction error.\n"
      ]
    },
    {
      "cell_type": "code",
      "execution_count": 5,
      "metadata": {
        "id": "LkvgvMeOG0sv"
      },
      "outputs": [],
      "source": [
        "# Initialize the loss function\n",
        "loss_fn = nn.CrossEntropyLoss()"
      ]
    },
    {
      "cell_type": "markdown",
      "metadata": {
        "id": "pwckoQCjG0sx"
      },
      "source": [
        "Optimizer\n",
        "=========\n",
        "\n",
        "Optimization is the process of adjusting model parameters to reduce\n",
        "model error in each training step. **Optimization algorithms** define\n",
        "how this process is performed (in this example we use Stochastic\n",
        "Gradient Descent). All optimization logic is encapsulated in the\n",
        "`optimizer` object. Here, we use the SGD optimizer; additionally, there\n",
        "are many [different\n",
        "optimizers](https://pytorch.org/docs/stable/optim.html) available in\n",
        "PyTorch such as ADAM and RMSProp, that work better for different kinds\n",
        "of models and data.\n",
        "\n",
        "We initialize the optimizer by registering the model\\'s parameters that\n",
        "need to be trained, and passing in the learning rate hyperparameter.\n"
      ]
    },
    {
      "cell_type": "code",
      "execution_count": 6,
      "metadata": {
        "id": "vV01aNQ6G0sz"
      },
      "outputs": [],
      "source": [
        "optimizer = torch.optim.SGD(model.parameters(), lr=learning_rate)"
      ]
    },
    {
      "cell_type": "markdown",
      "metadata": {
        "id": "0x1W2I4WG0s0"
      },
      "source": [
        "Inside the training loop, optimization happens in three steps:\n",
        "\n",
        ":   -   Call `optimizer.zero_grad()` to reset the gradients of model\n",
        "        parameters. Gradients by default add up; to prevent\n",
        "        double-counting, we explicitly zero them at each iteration.\n",
        "    -   Backpropagate the prediction loss with a call to\n",
        "        `loss.backward()`. PyTorch deposits the gradients of the loss\n",
        "        w.r.t. each parameter.\n",
        "    -   Once we have our gradients, we call `optimizer.step()` to adjust\n",
        "        the parameters by the gradients collected in the backward pass.\n"
      ]
    },
    {
      "cell_type": "markdown",
      "metadata": {
        "id": "d8yTqxylG0s2"
      },
      "source": [
        "Full Implementation {#full-impl-label}\n",
        "===================\n",
        "\n",
        "We define `train_loop` that loops over our optimization code, and\n",
        "`test_loop` that evaluates the model\\'s performance against our test\n",
        "data.\n"
      ]
    },
    {
      "cell_type": "code",
      "execution_count": 7,
      "metadata": {
        "id": "MVeFO-ltG0s3"
      },
      "outputs": [],
      "source": [
        "def train_loop(dataloader, model, loss_fn, optimizer):\n",
        "    size = len(dataloader.dataset)\n",
        "    # Set the model to training mode - important for batch normalization and dropout layers\n",
        "    # Unnecessary in this situation but added for best practices\n",
        "    model.train()\n",
        "    for batch, (X, y) in enumerate(dataloader):\n",
        "        # Compute prediction and loss\n",
        "        pred = model(X)\n",
        "        loss = loss_fn(pred, y)\n",
        "\n",
        "        # Backpropagation\n",
        "        loss.backward()\n",
        "        optimizer.step()\n",
        "        optimizer.zero_grad()\n",
        "\n",
        "        if batch % 100 == 0:\n",
        "            loss, current = loss.item(), batch * batch_size + len(X)\n",
        "            print(f\"loss: {loss:>7f}  [{current:>5d}/{size:>5d}]\")\n",
        "\n",
        "\n",
        "def test_loop(dataloader, model, loss_fn):\n",
        "    # Set the model to evaluation mode - important for batch normalization and dropout layers\n",
        "    # Unnecessary in this situation but added for best practices\n",
        "    model.eval()\n",
        "    size = len(dataloader.dataset)\n",
        "    num_batches = len(dataloader)\n",
        "    test_loss, correct = 0, 0\n",
        "\n",
        "    # Evaluating the model with torch.no_grad() ensures that no gradients are computed during test mode\n",
        "    # also serves to reduce unnecessary gradient computations and memory usage for tensors with requires_grad=True\n",
        "    with torch.no_grad():\n",
        "        for X, y in dataloader:\n",
        "            pred = model(X)\n",
        "            test_loss += loss_fn(pred, y).item()\n",
        "            correct += (pred.argmax(1) == y).type(torch.float).sum().item()\n",
        "\n",
        "    test_loss /= num_batches\n",
        "    correct /= size\n",
        "    print(f\"Test Error: \\n Accuracy: {(100*correct):>0.1f}%, Avg loss: {test_loss:>8f} \\n\")"
      ]
    },
    {
      "cell_type": "markdown",
      "metadata": {
        "id": "xROzx3dWG0s4"
      },
      "source": [
        "We initialize the loss function and optimizer, and pass it to\n",
        "`train_loop` and `test_loop`. Feel free to increase the number of epochs\n",
        "to track the model\\'s improving performance.\n"
      ]
    },
    {
      "cell_type": "code",
      "execution_count": 8,
      "metadata": {
        "id": "5-eNzy1RG0s5",
        "outputId": "0221cd54-8b97-40f7-f443-fb562d462801",
        "colab": {
          "base_uri": "https://localhost:8080/"
        }
      },
      "outputs": [
        {
          "output_type": "stream",
          "name": "stdout",
          "text": [
            "Epoch 1\n",
            "-------------------------------\n",
            "loss: 2.314769  [   64/60000]\n",
            "loss: 2.300304  [ 6464/60000]\n",
            "loss: 2.283072  [12864/60000]\n",
            "loss: 2.279155  [19264/60000]\n",
            "loss: 2.259660  [25664/60000]\n",
            "loss: 2.231611  [32064/60000]\n",
            "loss: 2.243201  [38464/60000]\n",
            "loss: 2.211948  [44864/60000]\n",
            "loss: 2.222399  [51264/60000]\n",
            "loss: 2.179375  [57664/60000]\n",
            "Test Error: \n",
            " Accuracy: 36.4%, Avg loss: 2.177642 \n",
            "\n",
            "Epoch 2\n",
            "-------------------------------\n",
            "loss: 2.192160  [   64/60000]\n",
            "loss: 2.177393  [ 6464/60000]\n",
            "loss: 2.125917  [12864/60000]\n",
            "loss: 2.149317  [19264/60000]\n",
            "loss: 2.104529  [25664/60000]\n",
            "loss: 2.043412  [32064/60000]\n",
            "loss: 2.082503  [38464/60000]\n",
            "loss: 2.004355  [44864/60000]\n",
            "loss: 2.026840  [51264/60000]\n",
            "loss: 1.953911  [57664/60000]\n",
            "Test Error: \n",
            " Accuracy: 51.8%, Avg loss: 1.944599 \n",
            "\n",
            "Epoch 3\n",
            "-------------------------------\n",
            "loss: 1.975905  [   64/60000]\n",
            "loss: 1.938186  [ 6464/60000]\n",
            "loss: 1.828636  [12864/60000]\n",
            "loss: 1.883754  [19264/60000]\n",
            "loss: 1.786888  [25664/60000]\n",
            "loss: 1.717921  [32064/60000]\n",
            "loss: 1.758772  [38464/60000]\n",
            "loss: 1.645265  [44864/60000]\n",
            "loss: 1.679756  [51264/60000]\n",
            "loss: 1.578214  [57664/60000]\n",
            "Test Error: \n",
            " Accuracy: 61.6%, Avg loss: 1.584178 \n",
            "\n",
            "Epoch 4\n",
            "-------------------------------\n",
            "loss: 1.646973  [   64/60000]\n",
            "loss: 1.601013  [ 6464/60000]\n",
            "loss: 1.454170  [12864/60000]\n",
            "loss: 1.537406  [19264/60000]\n",
            "loss: 1.422734  [25664/60000]\n",
            "loss: 1.399323  [32064/60000]\n",
            "loss: 1.424291  [38464/60000]\n",
            "loss: 1.337050  [44864/60000]\n",
            "loss: 1.375955  [51264/60000]\n",
            "loss: 1.272742  [57664/60000]\n",
            "Test Error: \n",
            " Accuracy: 62.8%, Avg loss: 1.296405 \n",
            "\n",
            "Epoch 5\n",
            "-------------------------------\n",
            "loss: 1.376137  [   64/60000]\n",
            "loss: 1.347676  [ 6464/60000]\n",
            "loss: 1.183893  [12864/60000]\n",
            "loss: 1.293260  [19264/60000]\n",
            "loss: 1.165933  [25664/60000]\n",
            "loss: 1.185358  [32064/60000]\n",
            "loss: 1.207961  [38464/60000]\n",
            "loss: 1.142001  [44864/60000]\n",
            "loss: 1.181496  [51264/60000]\n",
            "loss: 1.093624  [57664/60000]\n",
            "Test Error: \n",
            " Accuracy: 64.3%, Avg loss: 1.115057 \n",
            "\n",
            "Epoch 6\n",
            "-------------------------------\n",
            "loss: 1.191643  [   64/60000]\n",
            "loss: 1.185312  [ 6464/60000]\n",
            "loss: 1.004702  [12864/60000]\n",
            "loss: 1.140792  [19264/60000]\n",
            "loss: 1.005919  [25664/60000]\n",
            "loss: 1.041904  [32064/60000]\n",
            "loss: 1.076198  [38464/60000]\n",
            "loss: 1.017553  [44864/60000]\n",
            "loss: 1.055955  [51264/60000]\n",
            "loss: 0.983559  [57664/60000]\n",
            "Test Error: \n",
            " Accuracy: 65.5%, Avg loss: 0.999144 \n",
            "\n",
            "Epoch 7\n",
            "-------------------------------\n",
            "loss: 1.065199  [   64/60000]\n",
            "loss: 1.081476  [ 6464/60000]\n",
            "loss: 0.883100  [12864/60000]\n",
            "loss: 1.040832  [19264/60000]\n",
            "loss: 0.906122  [25664/60000]\n",
            "loss: 0.942002  [32064/60000]\n",
            "loss: 0.991943  [38464/60000]\n",
            "loss: 0.936063  [44864/60000]\n",
            "loss: 0.969517  [51264/60000]\n",
            "loss: 0.911234  [57664/60000]\n",
            "Test Error: \n",
            " Accuracy: 67.1%, Avg loss: 0.921170 \n",
            "\n",
            "Epoch 8\n",
            "-------------------------------\n",
            "loss: 0.973359  [   64/60000]\n",
            "loss: 1.010556  [ 6464/60000]\n",
            "loss: 0.796808  [12864/60000]\n",
            "loss: 0.970958  [19264/60000]\n",
            "loss: 0.840877  [25664/60000]\n",
            "loss: 0.869328  [32064/60000]\n",
            "loss: 0.934182  [38464/60000]\n",
            "loss: 0.881214  [44864/60000]\n",
            "loss: 0.907028  [51264/60000]\n",
            "loss: 0.860325  [57664/60000]\n",
            "Test Error: \n",
            " Accuracy: 68.1%, Avg loss: 0.865692 \n",
            "\n",
            "Epoch 9\n",
            "-------------------------------\n",
            "loss: 0.903104  [   64/60000]\n",
            "loss: 0.957940  [ 6464/60000]\n",
            "loss: 0.732818  [12864/60000]\n",
            "loss: 0.918990  [19264/60000]\n",
            "loss: 0.795350  [25664/60000]\n",
            "loss: 0.814712  [32064/60000]\n",
            "loss: 0.891523  [38464/60000]\n",
            "loss: 0.842803  [44864/60000]\n",
            "loss: 0.860224  [51264/60000]\n",
            "loss: 0.821793  [57664/60000]\n",
            "Test Error: \n",
            " Accuracy: 69.5%, Avg loss: 0.824152 \n",
            "\n",
            "Epoch 10\n",
            "-------------------------------\n",
            "loss: 0.847492  [   64/60000]\n",
            "loss: 0.916051  [ 6464/60000]\n",
            "loss: 0.683384  [12864/60000]\n",
            "loss: 0.878829  [19264/60000]\n",
            "loss: 0.761747  [25664/60000]\n",
            "loss: 0.772632  [32064/60000]\n",
            "loss: 0.857831  [38464/60000]\n",
            "loss: 0.814598  [44864/60000]\n",
            "loss: 0.824036  [51264/60000]\n",
            "loss: 0.790971  [57664/60000]\n",
            "Test Error: \n",
            " Accuracy: 70.6%, Avg loss: 0.791520 \n",
            "\n",
            "Done!\n"
          ]
        }
      ],
      "source": [
        "loss_fn = nn.CrossEntropyLoss()\n",
        "optimizer = torch.optim.SGD(model.parameters(), lr=learning_rate)\n",
        "\n",
        "epochs = 10\n",
        "for t in range(epochs):\n",
        "    print(f\"Epoch {t+1}\\n-------------------------------\")\n",
        "    train_loop(train_dataloader, model, loss_fn, optimizer)\n",
        "    test_loop(test_dataloader, model, loss_fn)\n",
        "print(\"Done!\")"
      ]
    },
    {
      "cell_type": "markdown",
      "metadata": {
        "id": "tluVgeEQG0s5"
      },
      "source": [
        "Further Reading\n",
        "===============\n",
        "\n",
        "-   [Loss\n",
        "    Functions](https://pytorch.org/docs/stable/nn.html#loss-functions)\n",
        "-   [torch.optim](https://pytorch.org/docs/stable/optim.html)\n",
        "-   [Warmstart Training a\n",
        "    Model](https://pytorch.org/tutorials/recipes/recipes/warmstarting_model_using_parameters_from_a_different_model.html)\n"
      ]
    },
    {
      "cell_type": "code",
      "source": [],
      "metadata": {
        "id": "7MjLmIObHnG0"
      },
      "execution_count": null,
      "outputs": []
    },
    {
      "cell_type": "code",
      "source": [],
      "metadata": {
        "id": "VL6PdhRNHnAB"
      },
      "execution_count": null,
      "outputs": []
    },
    {
      "cell_type": "code",
      "source": [],
      "metadata": {
        "id": "g5mYgBoJHm7Z"
      },
      "execution_count": null,
      "outputs": []
    },
    {
      "cell_type": "code",
      "source": [],
      "metadata": {
        "id": "hN-4BVWdHm4f"
      },
      "execution_count": null,
      "outputs": []
    },
    {
      "cell_type": "code",
      "source": [],
      "metadata": {
        "id": "MfRR-BxqHmlr"
      },
      "execution_count": null,
      "outputs": []
    }
  ],
  "metadata": {
    "kernelspec": {
      "display_name": "Python 3",
      "language": "python",
      "name": "python3"
    },
    "language_info": {
      "codemirror_mode": {
        "name": "ipython",
        "version": 3
      },
      "file_extension": ".py",
      "mimetype": "text/x-python",
      "name": "python",
      "nbconvert_exporter": "python",
      "pygments_lexer": "ipython3",
      "version": "3.10.12"
    },
    "colab": {
      "provenance": []
    }
  },
  "nbformat": 4,
  "nbformat_minor": 0
}